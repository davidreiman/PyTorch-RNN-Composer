{
 "cells": [
  {
   "cell_type": "code",
   "execution_count": 31,
   "metadata": {
    "collapsed": true
   },
   "outputs": [],
   "source": [
    "import os\n",
    "import time\n",
    "import random\n",
    "import numpy as np\n",
    "\n",
    "import torch\n",
    "import torch.nn as nn\n",
    "\n",
    "from IPython import display\n",
    "from torch.autograd import Variable\n",
    "from matplotlib import pyplot as plt\n",
    "from tqdm import tqdm_notebook as tqdm\n",
    "from mido import MetaMessage, Message, MidiFile, MidiTrack"
   ]
  },
  {
   "cell_type": "code",
   "execution_count": 2,
   "metadata": {
    "collapsed": true
   },
   "outputs": [],
   "source": [
    "plt.style.use('seaborn')"
   ]
  },
  {
   "cell_type": "code",
   "execution_count": 3,
   "metadata": {
    "collapsed": true
   },
   "outputs": [],
   "source": [
    "class CharRNN(nn.Module):\n",
    "    def __init__(self, input_size, hidden_size, output_size, n_layers=1):\n",
    "        super(CharRNN, self).__init__()\n",
    "        self.input_size = input_size\n",
    "        self.hidden_size = hidden_size\n",
    "        self.output_size = output_size\n",
    "        self.n_layers = n_layers\n",
    "        \n",
    "        # Layers\n",
    "        self.encoder = nn.Embedding(input_size, hidden_size)\n",
    "        self.rnn = nn.LSTM(hidden_size, hidden_size, n_layers)\n",
    "        self.decoder = nn.Linear(hidden_size, output_size)\n",
    "\n",
    "    def forward(self, x, hidden):\n",
    "        batch_size = x.size(0)\n",
    "        encoded = self.encoder(x)\n",
    "        y, hidden = self.rnn(encoded.view(1, batch_size, -1), hidden)\n",
    "        y = self.decoder(y.view(batch_size, -1))\n",
    "        return y, hidden\n",
    "\n",
    "    def forward2(self, x, hidden):\n",
    "        encoded = self.encoder(x.view(1, -1))\n",
    "        y, hidden = self.rnn(encoded.view(1, 1, -1), hidden)\n",
    "        y = self.decoder(y.view(1, -1))\n",
    "        return y, hidden\n",
    "    \n",
    "    def init_hidden(self, batch_size):\n",
    "        return (Variable(torch.zeros(self.n_layers, batch_size, self.hidden_size)),\n",
    "                Variable(torch.zeros(self.n_layers, batch_size, self.hidden_size)))"
   ]
  },
  {
   "cell_type": "code",
   "execution_count": 4,
   "metadata": {
    "collapsed": true
   },
   "outputs": [],
   "source": [
    "vocab_size = 825\n",
    "hidden_size = 32\n",
    "chunk_size = 10\n",
    "batch_size = 32\n",
    "epochs = 5\n",
    "learning_rate = 0.005\n",
    "save_interval = 1000\n",
    "plot_interval = 25\n",
    "savedir = \"./model\""
   ]
  },
  {
   "cell_type": "code",
   "execution_count": 25,
   "metadata": {
    "collapsed": true
   },
   "outputs": [],
   "source": [
    "# Gather these into config file\n",
    "n_notes = 55\n",
    "min_pitch = 35"
   ]
  },
  {
   "cell_type": "code",
   "execution_count": 5,
   "metadata": {},
   "outputs": [],
   "source": [
    "if not os.path.isdir(savedir):\n",
    "    os.makedirs(savedir)"
   ]
  },
  {
   "cell_type": "code",
   "execution_count": 6,
   "metadata": {
    "collapsed": true
   },
   "outputs": [],
   "source": [
    "rnn = CharRNN(vocab_size, hidden_size, vocab_size, n_layers=1)"
   ]
  },
  {
   "cell_type": "code",
   "execution_count": 7,
   "metadata": {
    "collapsed": true
   },
   "outputs": [],
   "source": [
    "opt = torch.optim.Adam(rnn.parameters(), lr=learning_rate)\n",
    "loss = nn.CrossEntropyLoss()"
   ]
  },
  {
   "cell_type": "code",
   "execution_count": 8,
   "metadata": {
    "collapsed": true
   },
   "outputs": [],
   "source": [
    "def save_model(model, savedir=\"\"):\n",
    "    save_path = os.path.join(savedir, 'model')\n",
    "    torch.save(model.state_dict(), save_path)"
   ]
  },
  {
   "cell_type": "code",
   "execution_count": 9,
   "metadata": {
    "collapsed": true
   },
   "outputs": [],
   "source": [
    "def get_batch(file, chunk_len, batch_size):\n",
    "    \n",
    "    file_len = len(file)\n",
    "    \n",
    "    input_ = torch.LongTensor(batch_size, chunk_len)\n",
    "    target_ = torch.LongTensor(batch_size, chunk_len)\n",
    "    \n",
    "    for i in range(batch_size):\n",
    "        \n",
    "        start = np.random.randint(file_len - chunk_len)\n",
    "        end = start + chunk_len + 1\n",
    "        \n",
    "        chunk = file[start:end]\n",
    "        \n",
    "        input_[i] = chunk[:-1]\n",
    "        target_[i] = chunk[1:]\n",
    "        \n",
    "    input_ = Variable(input_)\n",
    "    target_ = Variable(target_)\n",
    "    \n",
    "    return input_, target_"
   ]
  },
  {
   "cell_type": "code",
   "execution_count": 10,
   "metadata": {},
   "outputs": [],
   "source": [
    "def train(data_dir, epochs, batch_size, chunk_size):\n",
    "    \n",
    "    files = [os.path.join(data_dir, file) for file in \n",
    "             os.listdir(data_dir) if file.endswith('.npy')]\n",
    "    \n",
    "    metadata = {'loss': []}\n",
    "    \n",
    "    try:\n",
    "    \n",
    "        pbar = tqdm(range(epochs), unit='epoch')\n",
    "\n",
    "        for epoch in pbar:\n",
    "            for file in files:\n",
    "\n",
    "                f = torch.Tensor(np.load(file))\n",
    "                file_len = len(f)\n",
    "\n",
    "                pbar2 = tqdm(range(file_len), unit='example')\n",
    "\n",
    "                for i in pbar2:\n",
    "\n",
    "                    hidden = rnn.init_hidden(batch_size)\n",
    "\n",
    "                    error = 0\n",
    "                    rnn.zero_grad()\n",
    "\n",
    "                    input_, target_ = get_batch(f, chunk_size, batch_size)\n",
    "\n",
    "                    for c in range(chunk_size):\n",
    "\n",
    "                        output, hidden = rnn(input_[:,c], hidden)\n",
    "                        error += loss(output.view(batch_size, -1), target_[:,c])\n",
    "\n",
    "                    error.backward()\n",
    "                    opt.step()\n",
    "\n",
    "                    if i % plot_interval == 0:\n",
    "                        metadata['loss'].append(error)\n",
    "                        n = len(metadata['loss'])\n",
    "\n",
    "                        iteration = [plot_interval*i for i in range(n)]\n",
    "                        plt.plot(iteration, metadata['loss'], c='cornflowerblue')\n",
    "                        plt.xlabel(\"Update Iteration\")\n",
    "                        plt.ylabel(\"Loss\")\n",
    "                        display.clear_output(wait=True)\n",
    "                        display.display(plt.gcf())\n",
    "\n",
    "        return metadata\n",
    "    \n",
    "    except KeyboardInterrupt:\n",
    "        print(\"Saving model before quitting...\")\n",
    "        save_model(rnn, savedir=savedir)\n",
    "        \n",
    "        return metadata"
   ]
  },
  {
   "cell_type": "code",
   "execution_count": 11,
   "metadata": {
    "collapsed": true
   },
   "outputs": [],
   "source": [
    "def generate(note, length, temperature):\n",
    "    \n",
    "    sequence = [note]\n",
    "    \n",
    "    for _ in range(length):\n",
    "    \n",
    "        hidden = rnn.init_hidden(1)\n",
    "        output, hidden = rnn(torch.LongTensor([note]), hidden)\n",
    "        \n",
    "        output_dist = output.data.view(-1).div(temperature).exp()\n",
    "        next_note = torch.multinomial(output_dist, 1)[0]\n",
    "        \n",
    "        sequence.append(next_note.item())\n",
    "        note = next_note\n",
    "    \n",
    "    return sequence"
   ]
  },
  {
   "cell_type": "code",
   "execution_count": 38,
   "metadata": {
    "collapsed": true
   },
   "outputs": [],
   "source": [
    "def decode(riff, savepath):\n",
    "    riff = np.array(riff)\n",
    "    \n",
    "    pitch = riff % n_notes\n",
    "    duration = np.floor(riff/n_notes).astype('int')\n",
    "    \n",
    "    lookup_table = {0: 60,\n",
    "                 1: 80,\n",
    "                 2: 120,\n",
    "                 3: 160,\n",
    "                 4: 180,\n",
    "                 5: 240,\n",
    "                 6: 320,\n",
    "                 7: 360,\n",
    "                 8: 480,\n",
    "                 9: 720,\n",
    "                 10: 960,\n",
    "                 11: 1440,\n",
    "                 12: 1920,\n",
    "                 13: 2880,\n",
    "                 14: 3840}\n",
    "    \n",
    "    duration = np.array([lookup_table.get(x) for x in duration])\n",
    "    notes = np.vstack([pitch, duration]).T\n",
    "    \n",
    "    mid = MidiFile()\n",
    "    track = MidiTrack()\n",
    "    mid.tracks.append(track)\n",
    "    \n",
    "    track.append(MetaMessage('set_tempo', tempo=250000)) # 240 BPM\n",
    "    \n",
    "    for i in range(len(notes)):\n",
    "        if notes[i][0] % n_notes == n_notes - 1:\n",
    "            time = notes[i][1]\n",
    "        else:\n",
    "            time = 0\n",
    "            \n",
    "        track.append(Message('note_on', note=notes[i][0] + min_pitch, velocity=127, time=time))\n",
    "        track.append(Message('note_off', note=notes[i][0] + min_pitch, velocity=127, time=notes[i][1]))\n",
    "    \n",
    "    mid.save(savepath)"
   ]
  },
  {
   "cell_type": "code",
   "execution_count": 12,
   "metadata": {},
   "outputs": [
    {
     "data": {
      "image/png": "[encoded data removed]",
      "text/plain": [
       "<matplotlib.figure.Figure at 0x1103d2400>"
      ]
     },
     "metadata": {},
     "output_type": "display_data"
    },
    {
     "name": "stdout",
     "output_type": "stream",
     "text": [
      "\n"
     ]
    }
   ],
   "source": [
    "metadata = train('./data', epochs, batch_size, chunk_size)"
   ]
  },
  {
   "cell_type": "code",
   "execution_count": 13,
   "metadata": {},
   "outputs": [],
   "source": [
    "riff = generate(112, 100, 1.)"
   ]
  },
  {
   "cell_type": "code",
   "execution_count": 39,
   "metadata": {},
   "outputs": [],
   "source": [
    "decode(riff, 'here')"
   ]
  },
  {
   "cell_type": "code",
   "execution_count": null,
   "metadata": {
    "collapsed": true
   },
   "outputs": [],
   "source": []
  }
 ],
 "metadata": {
  "kernelspec": {
   "display_name": "Python 3",
   "language": "python",
   "name": "python3"
  },
  "language_info": {
   "codemirror_mode": {
    "name": "ipython",
    "version": 3
   },
   "file_extension": ".py",
   "mimetype": "text/x-python",
   "name": "python",
   "nbconvert_exporter": "python",
   "pygments_lexer": "ipython3",
   "version": "3.6.1"
  }
 },
 "nbformat": 4,
 "nbformat_minor": 2
}
