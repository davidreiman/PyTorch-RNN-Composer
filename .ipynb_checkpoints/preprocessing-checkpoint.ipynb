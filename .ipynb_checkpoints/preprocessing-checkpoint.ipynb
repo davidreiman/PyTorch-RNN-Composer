{
 "cells": [
  {
   "cell_type": "markdown",
   "metadata": {},
   "source": [
    "# **Preprocessing**\n",
    "\n",
    "* Tune all guitars to 7-string B-standard\n",
    "* Lowest note in this tuning is 35 (B2)\n",
    "* Highest note in this tuning is 88 (E7, assuming 24-fret guitar)\n",
    "* This is a dictionary size of 55 playable notes\n",
    "    * [35, 88] inclusive + a rest note\n",
    "\n",
    "*To add dynamic note lengths, we must increase this \n",
    "dictionary size by many times…*\n",
    "\n",
    "Dictionary of note lengths:  \n",
    "    [32nd, 16th, 8th, quarter, half, whole,  \n",
    "     dotted {16th, 8th, quarter, half, whole},  \n",
    "     triplet {16th, 8th, quarter}, two whole]\n",
    "\n",
    "This brings our total dictionary length up to…  \n",
    "\n",
    "**15 note lengths x 55 playable notes = 825 total**\n",
    "\n",
    "### Standard\n",
    "32nd = 120  \n",
    "16th = 240  \n",
    "8th = 480  \n",
    "Quarter = 960  \n",
    "Half = 1920  \n",
    "Whole = 3840  \n",
    "Two whole = 7680  \n",
    "\n",
    "### Dotted\n",
    "16th = 360  \n",
    "8th = 720  \n",
    "Quarter = 1440  \n",
    "Half = 2880  \n",
    "Whole = 5760  \n",
    "\n",
    "### Triplet\n",
    "16th = 160  \n",
    "8th = 320  \n",
    "Quarter = 640\n",
    "\n",
    "#### Other notes:\n",
    "* MIDI track 0 appears to only contain the tempo + time signature information\n",
    "* Rests are identifiable by the \"time=x\" in a \"note-on\" MIDI event\n",
    "* Pitches will be tokenized with 0 as the lowest pitch by subtracting MIN_PITCH\n",
    "* We'll assign rests the maximum \"pitch\" value of 54 whereas all other notes will be [0, 53] == [35-35, 88-35]\n",
    "* Each note duration is assigned an index on the interval [0, 14] and is retrieved via index_dict\n",
    "    * The encoded pitch/duration combination is given by: X = (Pitch - MIN_PITCH) + index * N_NOTES\n",
    "    * Then we can see min(X) = 0 for (Pitch, index) = (MIN_PITCH, 0) and max(X) = 824 for (Pitch, index) = (89 [rest note], 14)"
   ]
  },
  {
   "cell_type": "code",
   "execution_count": null,
   "metadata": {
    "collapsed": true
   },
   "outputs": [],
   "source": [
    "import os\n",
    "import re\n",
    "import numpy as np\n",
    "\n",
    "from mido import MidiFile\n",
    "from multiprocessing import pool"
   ]
  },
  {
   "cell_type": "code",
   "execution_count": null,
   "metadata": {
    "collapsed": true
   },
   "outputs": [],
   "source": [
    "MIN_PITCH = 35\n",
    "MAX_PITCH = 88\n",
    "INCLUDE_REST = True\n",
    "N_NOTES = MAX_PITCH - MIN_PITCH + 2 if INCLUDE_REST else MAX_PITCH - MIN_PITCH + 1\n",
    "REST_NOTE = N_NOTES - 1 if INCLUDE_REST else None"
   ]
  },
  {
   "cell_type": "code",
   "execution_count": null,
   "metadata": {
    "collapsed": true
   },
   "outputs": [],
   "source": [
    "note_lengths = [120, 160, 240, 320, 360, 480, 640, 720, 960, 1440, 1920, 2880, 3840, 5760, 7680]"
   ]
  },
  {
   "cell_type": "code",
   "execution_count": null,
   "metadata": {
    "collapsed": true
   },
   "outputs": [],
   "source": [
    "index_dict = dict(zip(note_lengths, range(len(note_lengths))))"
   ]
  },
  {
   "cell_type": "code",
   "execution_count": null,
   "metadata": {
    "scrolled": true
   },
   "outputs": [],
   "source": [
    "index_dict"
   ]
  },
  {
   "cell_type": "code",
   "execution_count": null,
   "metadata": {
    "collapsed": true
   },
   "outputs": [],
   "source": [
    "midi_dir = './midi'\n",
    "save_dir = './data'"
   ]
  },
  {
   "cell_type": "code",
   "execution_count": null,
   "metadata": {
    "collapsed": true
   },
   "outputs": [],
   "source": [
    "if not os.path.isdir(save_dir):\n",
    "    os.makedirs(save_dir)"
   ]
  },
  {
   "cell_type": "code",
   "execution_count": null,
   "metadata": {
    "collapsed": true
   },
   "outputs": [],
   "source": [
    "files = [os.path.join(midi_dir, file) for file in os.listdir(midi_dir) if file.endswith('.mid')]"
   ]
  },
  {
   "cell_type": "code",
   "execution_count": null,
   "metadata": {
    "collapsed": true
   },
   "outputs": [],
   "source": [
    "def get_index(key):\n",
    "    keys = list(index_dict.keys())\n",
    "    \n",
    "    if key in keys:\n",
    "        index = index_dict.get(key)\n",
    "        \n",
    "    else:\n",
    "        diff = np.absolute(np.array(keys) - key)\n",
    "        key = keys[np.argmin(diff)] \n",
    "        index = index_dict.get(key)\n",
    "    \n",
    "    return index"
   ]
  },
  {
   "cell_type": "code",
   "execution_count": null,
   "metadata": {},
   "outputs": [],
   "source": [
    "for file in files:\n",
    "    mid = MidiFile(file)\n",
    "    \n",
    "    for i, track in enumerate(mid.tracks[1:]):\n",
    "        \n",
    "        last_pitch = np.inf\n",
    "        notes = []\n",
    "        \n",
    "        for msg in track:\n",
    "            if str(msg).startswith('note_on'):\n",
    "\n",
    "                time = re.search('time=(\\d+)', str(msg))\n",
    "                time = int(time.group(1))\n",
    "\n",
    "                if time > 0:\n",
    "\n",
    "                    index = get_index(time)\n",
    "                    notes.append(REST_NOTE + N_NOTES*index)\n",
    "                \n",
    "                pitch = re.search('note=(\\d+)', str(msg))\n",
    "                pitch = int(pitch.group(1)) - MIN_PITCH\n",
    "                \n",
    "                if pitch < last_pitch:\n",
    "                    last_pitch = pitch\n",
    "                \n",
    "            elif str(msg).startswith('note_off'):\n",
    "\n",
    "                time = re.search('time=(\\d+)', str(msg))\n",
    "                time = int(time.group(1))\n",
    "                \n",
    "                if time > 0 and last_pitch != np.inf:\n",
    "\n",
    "                    index = get_index(time)\n",
    "                    notes.append(last_pitch + N_NOTES*index)\n",
    "\n",
    "                    last_pitch = np.inf\n",
    "        \n",
    "        basename = os.path.splitext(os.path.basename(file))[0]\n",
    "        filename = basename + \" - {}\".format(i)\n",
    "        np.save(os.path.join(save_dir, filename), notes)"
   ]
  },
  {
   "cell_type": "code",
   "execution_count": null,
   "metadata": {},
   "outputs": [],
   "source": [
    "notes"
   ]
  },
  {
   "cell_type": "code",
   "execution_count": null,
   "metadata": {},
   "outputs": [],
   "source": [
    "for file in files[0:1]:\n",
    "    mid = MidiFile(file)\n",
    "    \n",
    "    for i, track in enumerate(mid.tracks[1:]):\n",
    "        for msg in track:\n",
    "            print(str(msg))"
   ]
  },
  {
   "cell_type": "code",
   "execution_count": null,
   "metadata": {
    "collapsed": true
   },
   "outputs": [],
   "source": []
  }
 ],
 "metadata": {
  "kernelspec": {
   "display_name": "Python 3",
   "language": "python",
   "name": "python3"
  },
  "language_info": {
   "codemirror_mode": {
    "name": "ipython",
    "version": 3
   },
   "file_extension": ".py",
   "mimetype": "text/x-python",
   "name": "python",
   "nbconvert_exporter": "python",
   "pygments_lexer": "ipython3",
   "version": "3.6.1"
  }
 },
 "nbformat": 4,
 "nbformat_minor": 2
}
