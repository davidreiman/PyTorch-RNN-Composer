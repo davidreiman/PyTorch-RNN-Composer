{
 "cells": [
  {
   "cell_type": "markdown",
   "metadata": {},
   "source": [
    "# **Preprocessing**\n",
    "\n",
    "* Tune all guitars to 7-string B-standard\n",
    "* Lowest note in this tuning is 25 (low B)\n",
    "* Highest note on 24-fret in this tuning is 88\n",
    "* This is a dictionary size of 55 playable notes\n",
    "    * [25, 88] inclusive + a rest note\n",
    "\n",
    "*To add note lengths, we must increase this \n",
    "dictionary size by many times…*\n",
    "\n",
    "Dictionary of note lengths:  \n",
    "    [32nd, 16th, 8th, quarter, half, whole,  \n",
    "     dotted {16th, 8th, quarter, half, whole},  \n",
    "     triplet {16th, 8th, quarter}, two whole]\n",
    "\n",
    "This brings our total dictionary length up to…  \n",
    "\n",
    "**15 note lengths x 55 playable notes = 825 total**\n",
    "\n",
    "### Standard\n",
    "32nd = 120  \n",
    "16th = 240  \n",
    "8th = 480  \n",
    "Quarter = 960  \n",
    "Half = 1920  \n",
    "Whole = 3840  \n",
    "Two whole = 7680  \n",
    "\n",
    "### Dotted\n",
    "16th = 360  \n",
    "8th = 720  \n",
    "Quarter = 1440  \n",
    "Half = 2880  \n",
    "Whole = 5760  \n",
    "\n",
    "### Triplet\n",
    "16th = 160  \n",
    "8th = 320  \n",
    "Quarter = 640"
   ]
  },
  {
   "cell_type": "code",
   "execution_count": 1,
   "metadata": {
    "collapsed": true
   },
   "outputs": [],
   "source": [
    "import os\n",
    "import re\n",
    "import numpy as np\n",
    "\n",
    "from mido import MidiFile\n",
    "from multiprocessing import pool"
   ]
  },
  {
   "cell_type": "code",
   "execution_count": null,
   "metadata": {
    "collapsed": true
   },
   "outputs": [],
   "source": [
    "MIN_PITCH = 32"
   ]
  },
  {
   "cell_type": "code",
   "execution_count": 2,
   "metadata": {
    "collapsed": true
   },
   "outputs": [],
   "source": [
    "midi_dir = \"./midi\"\n",
    "save_dir = \"./data\""
   ]
  },
  {
   "cell_type": "code",
   "execution_count": 3,
   "metadata": {
    "collapsed": true
   },
   "outputs": [],
   "source": [
    "if not os.path.isdir(save_dir):\n",
    "    os.makedirs(save_dir)"
   ]
  },
  {
   "cell_type": "code",
   "execution_count": 4,
   "metadata": {
    "collapsed": true
   },
   "outputs": [],
   "source": [
    "files = [os.path.join(midi_dir, file) for file in os.listdir(midi_dir) if file.endswith(\".mid\")]"
   ]
  },
  {
   "cell_type": "code",
   "execution_count": 5,
   "metadata": {
    "collapsed": true
   },
   "outputs": [],
   "source": [
    "for file in files:\n",
    "    mid = MidiFile(file)\n",
    "    \n",
    "    for i, track in enumerate(mid.tracks[1:]):\n",
    "        \n",
    "        note_on = False\n",
    "        notes = dict(pitch=[], length=[])\n",
    "        \n",
    "        for msg in track:\n",
    "            if \"note_on\" in str(msg):\n",
    "                \n",
    "                match = re.search('note=(\\d+)', str(msg))\n",
    "                pitch = int(match.group(1))\n",
    "                \n",
    "                if not note_on:\n",
    "                    notes['pitch'].append(pitch)\n",
    "                    note_on = True\n",
    "                \n",
    "                elif note_on and pitch < notes['pitch'][-1]:\n",
    "                    notes['pitch'][-1] = pitch\n",
    "                \n",
    "            elif \"note_off\" in str(msg):\n",
    "                if note_on:\n",
    "\n",
    "                    match = re.search('time=(\\d+)', str(msg))\n",
    "                    notes['length'].append(int(match.group(1))//240)\n",
    "                    note_on = False\n",
    "        \n",
    "        song = np.stack(notes.values()).T\n",
    "        basename = os.path.splitext(os.path.basename(file))[0]\n",
    "        filename = basename + \" - {}\".format(i)\n",
    "        \n",
    "        np.save(os.path.join(save_dir, filename), arr=song)"
   ]
  },
  {
   "cell_type": "code",
   "execution_count": null,
   "metadata": {
    "collapsed": true
   },
   "outputs": [],
   "source": []
  }
 ],
 "metadata": {
  "kernelspec": {
   "display_name": "Python 3",
   "language": "python",
   "name": "python3"
  },
  "language_info": {
   "codemirror_mode": {
    "name": "ipython",
    "version": 3
   },
   "file_extension": ".py",
   "mimetype": "text/x-python",
   "name": "python",
   "nbconvert_exporter": "python",
   "pygments_lexer": "ipython3",
   "version": "3.6.1"
  }
 },
 "nbformat": 4,
 "nbformat_minor": 2
}
