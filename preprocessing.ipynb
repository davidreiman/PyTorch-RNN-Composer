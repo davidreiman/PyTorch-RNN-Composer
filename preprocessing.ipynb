{
 "cells": [
  {
   "cell_type": "code",
   "execution_count": 8,
   "metadata": {},
   "outputs": [],
   "source": [
    "import os\n",
    "import re\n",
    "import numpy as np\n",
    "\n",
    "from mido import MidiFile\n",
    "from multiprocessing import pool"
   ]
  },
  {
   "cell_type": "code",
   "execution_count": 9,
   "metadata": {
    "collapsed": true
   },
   "outputs": [],
   "source": [
    "midi_dir = \"./midi\"\n",
    "save_dir = \"./data\""
   ]
  },
  {
   "cell_type": "code",
   "execution_count": 10,
   "metadata": {
    "collapsed": true
   },
   "outputs": [],
   "source": [
    "if not os.path.isdir(save_dir):\n",
    "    os.makedirs(save_dir)"
   ]
  },
  {
   "cell_type": "code",
   "execution_count": 11,
   "metadata": {},
   "outputs": [],
   "source": [
    "files = [os.path.join(midi_dir, file) for file in os.listdir(midi_dir) if file.endswith(\".mid\")]"
   ]
  },
  {
   "cell_type": "code",
   "execution_count": 21,
   "metadata": {},
   "outputs": [
    {
     "data": {
      "text/plain": [
       "['./midi/Fallujah - Cerebral Hybridization - Guitar L.mid',\n",
       " './midi/Fallujah - The Flame Surreal - Guitar L.mid',\n",
       " './midi/Fallujah - Assemblage Of Wolves - Guitar R.mid']"
      ]
     },
     "execution_count": 21,
     "metadata": {},
     "output_type": "execute_result"
    }
   ],
   "source": [
    "files"
   ]
  },
  {
   "cell_type": "code",
   "execution_count": 22,
   "metadata": {},
   "outputs": [],
   "source": [
    "for file in files[:1]:\n",
    "    mid = MidiFile(file)\n",
    "    \n",
    "    for i, track in enumerate(mid.tracks):\n",
    "        \n",
    "        note_on = False\n",
    "        notes = dict(pitch=[], length=[])\n",
    "        \n",
    "        for msg in track:\n",
    "            if \"note_on\" in str(msg):\n",
    "                if not note_on:\n",
    "                    match = re.search('note=(\\d+)', str(msg))\n",
    "                    notes['pitch'].append(int(match.group(1)))\n",
    "                    note_on = True\n",
    "                \n",
    "                if note_on:\n",
    "                    \n",
    "                    # If there are multiple note_on it is \n",
    "                    # likely a chord. Choose the root note.\n",
    "                    \n",
    "                    match = re.search('note=(\\d+)', str(msg))\n",
    "                    pitch = int(match.group(1))\n",
    "                               \n",
    "                    if pitch < notes['pitch'][-1]:\n",
    "                        notes['pitch'][-1] = pitch\n",
    "                \n",
    "            elif \"note_off\" in str(msg):\n",
    "                if note_on:\n",
    "                    \n",
    "                    # Append note length as a multiple of 16th note\n",
    "                    \n",
    "                    match = re.search('time=(\\d+)', str(msg))\n",
    "                    notes['length'].append(int(match.group(1))//240)\n",
    "                    note_on = False\n",
    "        \n",
    "        song = np.stack(notes.values()).T\n",
    "        basename = os.path.splitext(os.path.basename(file))[0]\n",
    "        filename = basename + \" - {}\".format(i)\n",
    "        \n",
    "        np.save(os.path.join(save_dir, filename), arr=song)"
   ]
  },
  {
   "cell_type": "code",
   "execution_count": null,
   "metadata": {
    "collapsed": true
   },
   "outputs": [],
   "source": []
  }
 ],
 "metadata": {
  "kernelspec": {
   "display_name": "Python 3",
   "language": "python",
   "name": "python3"
  },
  "language_info": {
   "codemirror_mode": {
    "name": "ipython",
    "version": 3
   },
   "file_extension": ".py",
   "mimetype": "text/x-python",
   "name": "python",
   "nbconvert_exporter": "python",
   "pygments_lexer": "ipython3",
   "version": "3.6.1"
  }
 },
 "nbformat": 4,
 "nbformat_minor": 2
}
